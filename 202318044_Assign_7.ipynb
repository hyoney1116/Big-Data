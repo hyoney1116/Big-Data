{
  "nbformat": 4,
  "nbformat_minor": 0,
  "metadata": {
    "colab": {
      "provenance": []
    },
    "kernelspec": {
      "name": "python3",
      "display_name": "Python 3"
    },
    "language_info": {
      "name": "python"
    }
  },
  "cells": [
    {
      "cell_type": "code",
      "source": [
        "!pip install confluent_kafka"
      ],
      "metadata": {
        "colab": {
          "base_uri": "https://localhost:8080/"
        },
        "id": "smOIapJDoj1v",
        "outputId": "8af773d5-a12d-49e8-a4b1-596fa43c5c89"
      },
      "execution_count": 5,
      "outputs": [
        {
          "output_type": "stream",
          "name": "stdout",
          "text": [
            "Requirement already satisfied: confluent_kafka in /usr/local/lib/python3.10/dist-packages (2.3.0)\n"
          ]
        }
      ]
    },
    {
      "cell_type": "code",
      "execution_count": 6,
      "metadata": {
        "id": "h4RoQJjXn9BD"
      },
      "outputs": [],
      "source": [
        "from confluent_kafka import Producer, Consumer, KafkaError\n",
        "import json"
      ]
    },
    {
      "cell_type": "code",
      "source": [
        "# Kafka bootstrap servers\n",
        "bootstrap_servers = 'localhost:9092'\n",
        "\n",
        "# Kafka topics\n",
        "inventory_topic = 'inventory_orders'\n",
        "delivery_topic = 'delivery_orders'\n",
        "\n",
        "# Kafka producer configurations\n",
        "producer_config = {\n",
        "    'bootstrap.servers': bootstrap_servers\n",
        "}\n",
        "\n",
        "# Create Kafka producers\n",
        "inventory_producer = Producer(producer_config)\n",
        "delivery_producer = Producer(producer_config)\n",
        "\n",
        "def send_inventory_order(order):\n",
        "    order_type = order.get('type')\n",
        "    if order_type == 'inventory':\n",
        "        inventory_producer.produce(inventory_topic, json.dumps(order))\n",
        "        inventory_producer.flush()\n",
        "\n",
        "def send_delivery_order(order):\n",
        "    order_type = order.get('type')\n",
        "    if order_type == 'delivery':\n",
        "        delivery_producer.produce(delivery_topic, json.dumps(order))\n",
        "        delivery_producer.flush()\n",
        "\n",
        "# Example usage\n",
        "if __name__ == \"__main__\":\n",
        "    inventory_order = {\n",
        "        'type': 'inventory',\n",
        "        'order_id': 'INV123',\n",
        "        'product_id': 'PROD001',\n",
        "        'quantity': 10\n",
        "    }\n",
        "    delivery_order = {\n",
        "        'type': 'delivery',\n",
        "        'order_id': 'DEL456',\n",
        "        'customer_id': 'CUST001',\n",
        "        'delivery_address': '123 Main St'\n",
        "    }\n",
        "    send_inventory_order(inventory_order)\n",
        "    send_delivery_order(delivery_order)\n"
      ],
      "metadata": {
        "id": "0DgNY9BOoooH"
      },
      "execution_count": 4,
      "outputs": []
    },
    {
      "cell_type": "code",
      "source": [
        "bootstrap_servers = 'localhost:9092'\n",
        "\n",
        "# Kafka topics\n",
        "inventory_topic = 'inventory_orders'\n",
        "delivery_topic = 'delivery_orders'\n",
        "\n",
        "# Kafka consumer group\n",
        "consumer_group = 'ecommerce_consumers'\n",
        "\n",
        "# Kafka consumer configurations\n",
        "consumer_config = {\n",
        "    'bootstrap.servers': bootstrap_servers,\n",
        "    'group.id': consumer_group,\n",
        "    'auto.offset.reset': 'earliest'\n",
        "}\n",
        "\n",
        "inventory_consumer = Consumer(consumer_config)\n",
        "delivery_consumer = Consumer(consumer_config)\n",
        "\n",
        "def process_inventory_message(message):\n",
        "    try:\n",
        "        order = json.loads(message.value())\n",
        "        # Process inventory message, update inventory database/system accordingly\n",
        "        print(\"Processing inventory order:\", order)\n",
        "    except json.JSONDecodeError as e:\n",
        "        print(\"Error decoding JSON:\", e)\n",
        "\n",
        "def process_delivery_message(message):\n",
        "    try:\n",
        "        order = json.loads(message.value())\n",
        "        # Perform delivery action: schedule deliveries, update status, notify customers\n",
        "        print(\"Processing delivery order:\", order)\n",
        "    except json.JSONDecodeError as e:\n",
        "        print(\"Error decoding JSON:\", e)\n",
        "\n",
        "# Subscribe to Kafka topics\n",
        "inventory_consumer.subscribe([inventory_topic])\n",
        "delivery_consumer.subscribe([delivery_topic])\n",
        "\n",
        "try:\n",
        "    while True:\n",
        "        # Inventory consumer\n",
        "        msg_inventory = inventory_consumer.poll(timeout=1.0)\n",
        "        if msg_inventory is None:\n",
        "            continue\n",
        "        if msg_inventory.error():\n",
        "            if msg_inventory.error().code() == KafkaError._PARTITION_EOF:\n",
        "                continue\n",
        "            else:\n",
        "                print(msg_inventory.error())\n",
        "                break\n",
        "        process_inventory_message(msg_inventory)\n",
        "\n",
        "        msg_delivery = delivery_consumer.poll(timeout=1.0)\n",
        "        if msg_delivery is None:\n",
        "            continue\n",
        "        if msg_delivery.error():\n",
        "            if msg_delivery.error().code() == KafkaError._PARTITION_EOF:\n",
        "                continue\n",
        "            else:\n",
        "                print(msg_delivery.error())\n",
        "                break\n",
        "        process_delivery_message(msg_delivery)\n",
        "\n",
        "except KeyboardInterrupt:\n",
        "    pass\n",
        "\n",
        "finally:\n",
        "    inventory_consumer.close()\n",
        "    delivery_consumer.close()"
      ],
      "metadata": {
        "id": "FZxpONtZorEV"
      },
      "execution_count": 7,
      "outputs": []
    },
    {
      "cell_type": "code",
      "source": [
        "from confluent_kafka import Producer\n",
        "import json\n",
        "\n",
        "# Kafka bootstrap servers\n",
        "bootstrap_servers = 'localhost:9092'\n",
        "\n",
        "# Kafka topics\n",
        "inventory_topic = 'inventory_orders'\n",
        "delivery_topic = 'delivery_orders'\n",
        "\n",
        "# Kafka producer configurations\n",
        "producer_config = {\n",
        "    'bootstrap.servers': bootstrap_servers\n",
        "}\n",
        "\n",
        "# Create Kafka producers\n",
        "inventory_producer = Producer(producer_config)\n",
        "delivery_producer = Producer(producer_config)\n",
        "\n",
        "def send_inventory_order(order):\n",
        "    \"\"\"\n",
        "    Send inventory order to Kafka topic.\n",
        "    \"\"\"\n",
        "    inventory_producer.produce(inventory_topic, json.dumps(order))\n",
        "    inventory_producer.flush()\n",
        "\n",
        "def send_delivery_order(order):\n",
        "    \"\"\"\n",
        "    Send delivery order to Kafka topic.\n",
        "    \"\"\"\n",
        "    delivery_producer.produce(delivery_topic, json.dumps(order))\n",
        "    delivery_producer.flush()\n",
        "\n",
        "# Function to read JSON data from file\n",
        "def read_json_file(filename):\n",
        "    with open(filename, 'r') as file:\n",
        "        return json.load(file)\n",
        "\n",
        "# Example usage\n",
        "if __name__ == \"__main__\":\n",
        "    # Read data from JSON file\n",
        "    data = read_json_file('data.json')\n",
        "\n",
        "    # Iterate through data and send orders to Kafka topics\n",
        "    for order in data:\n",
        "        if order['type'] == 'inventory':\n",
        "            send_inventory_order(order)\n",
        "        elif order['type'] == 'delivery':\n",
        "            send_delivery_order(order)\n"
      ],
      "metadata": {
        "id": "on1IGZlkpZMS"
      },
      "execution_count": null,
      "outputs": []
    }
  ]
}