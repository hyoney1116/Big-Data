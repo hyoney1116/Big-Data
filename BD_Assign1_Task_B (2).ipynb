{
  "nbformat": 4,
  "nbformat_minor": 0,
  "metadata": {
    "colab": {
      "provenance": []
    },
    "kernelspec": {
      "name": "python3",
      "display_name": "Python 3"
    },
    "language_info": {
      "name": "python"
    }
  },
  "cells": [
    {
      "cell_type": "markdown",
      "source": [
        "### **Hani Soni**\n",
        "\n",
        "### **202318044**"
      ],
      "metadata": {
        "id": "F3u2NBwGo-Tn"
      }
    },
    {
      "cell_type": "markdown",
      "source": [
        "Task B: The API call process and dataset creation."
      ],
      "metadata": {
        "id": "a780ReXdpGIC"
      }
    },
    {
      "cell_type": "markdown",
      "source": [
        "Required liabraries."
      ],
      "metadata": {
        "id": "Hf2KlZuVpzPt"
      }
    },
    {
      "cell_type": "code",
      "source": [
        "import json\n",
        "import logging\n",
        "from datetime import datetime, timedelta\n",
        "import pandas as pd\n",
        "import requests"
      ],
      "metadata": {
        "id": "hFV-ZcNDdTTi"
      },
      "execution_count": 1,
      "outputs": []
    },
    {
      "cell_type": "markdown",
      "source": [
        "Define a class `Event` representing an event object with 11 fields, providing default values for each field and generating a unique object ID based on the current date and time."
      ],
      "metadata": {
        "id": "ic33bsUrpywb"
      }
    },
    {
      "cell_type": "code",
      "source": [
        "def create_unique_object_id():\n",
        "    now = datetime.now()\n",
        "    formatted_value = now.strftime(\"%y%m%d%f\")\n",
        "    return formatted_value\n",
        "\n",
        "\n",
        "class Event(dict):\n",
        "\n",
        "    \"\"\"\n",
        "        Event class used to represent an event object has 32 fields.\n",
        "    \"\"\"\n",
        "\n",
        "    def __init__(self, *args, **kwargs):\n",
        "\n",
        "        id = create_unique_object_id()\n",
        "        default_data = {\n",
        "            \"id\": id,\n",
        "            \"title\": \"\",\n",
        "            \"sdate\": \"\",\n",
        "            \"stime\": \"\",\n",
        "            \"address\": \"\",\n",
        "            \"latitude\": \"\",\n",
        "            \"longitude\": \"\",\n",
        "            \"place_name\": \"\",\n",
        "            \"event category\": \"\",\n",
        "            \"event_url\": \"\",\n",
        "            \"original_img_url\": \"\"\n",
        "        }\n",
        "\n",
        "        super().__init__(*args, **default_data)\n",
        "\n",
        "        del default_data  # removing as it's of no use now\n"
      ],
      "metadata": {
        "id": "R4B2l9VydahL"
      },
      "execution_count": 4,
      "outputs": []
    },
    {
      "cell_type": "markdown",
      "source": [
        "Define a function `fetch_events_from_ticketmaster` that queries the Ticketmaster API for events related to the keyword \"religious\" in a specified city and time range, processes the API response, and creates a list of `Event` objects with relevant information such as title, date, time, location, and URL."
      ],
      "metadata": {
        "id": "v5TQOxOSpx-8"
      }
    },
    {
      "cell_type": "code",
      "source": [
        "def fetch_events_from_ticketmaster(city=\"Miami\", days=30):\n",
        "    start_time = datetime.now()\n",
        "    end_time = start_time + timedelta(days=days)\n",
        "    start_time = start_time.strftime(\"%Y-%m-%dT%H:%M:%SZ\")\n",
        "    end_time = end_time.strftime(\"%Y-%m-%dT%H:%M:%SZ\")\n",
        "    print(start_time)\n",
        "\n",
        "    logging.info(f\"Start Time: {start_time}, End Time: {end_time}\")\n",
        "    events = []\n",
        "    url = f\"https://app.ticketmaster.com/discovery/v2/events.json?apikey=iTkEPL9j8mfVUGeTgYSADIphb7pXDMOG&keyword=religious&size=200&page=0&startDateTime={start_time}&endDateTime={end_time}\"\n",
        "\n",
        "    print(url)\n",
        "    try:\n",
        "        results = []\n",
        "        response = requests.get(url=url)  # API calling\n",
        "\n",
        "        response = response.json()\n",
        "        response = response[\"_embedded\"][\"events\"]\n",
        "        logging.info(f\"Number of events: {len(response)}\")\n",
        "        for i, record in enumerate(response):\n",
        "            print(i)\n",
        "            try:\n",
        "                if record.get(\"images\") != []:\n",
        "                    url = record[\"images\"][4].get(\"url\")\n",
        "                an_event = Event()\n",
        "                an_event['title'] = record.get(\"name\")\n",
        "                # data:startdate\n",
        "                an_event['sdate'] = record[\"dates\"][\"start\"][\"localDate\"]\n",
        "                # data:starttime\n",
        "                an_event['stime'] = record[\"dates\"][\"start\"][\"localTime\"]\n",
        "                # data:event_address\n",
        "                an_event['address'] = f'{record[\"_embedded\"][\"venues\"][0][\"name\"]} {record[\"_embedded\"][\"venues\"][0][\"postalCode\"]}'\n",
        "                # data:latitude\n",
        "                an_event['latitude'] = record[\"_embedded\"][\"venues\"][0][\"location\"][\"latitude\"]\n",
        "                an_event['longitude'] = record[\"_embedded\"][\"venues\"][0][\"location\"][\"longitude\"]\n",
        "                # data:place_name\n",
        "                an_event['place_name'] = record[\"_embedded\"][\"venues\"][0][\"address\"][\"line1\"]\n",
        "                # data:categories\n",
        "                an_event['event category'] = record[\"classifications\"][0][\"segment\"][\"name\"]\n",
        "                an_event['event_url'] = record[\"url\"]  # data:url\n",
        "                an_event['original_img_url'] = url  # data:original_img_name\n",
        "                results.append(an_event)\n",
        "                print(\n",
        "                    f\"Event {i} processed successfully. {an_event['event_url']}\")\n",
        "                logging.info(\n",
        "                    f\"Event {i} processed successfully. {an_event['event_url']}\")\n",
        "            except KeyError:\n",
        "                logging.exception(\n",
        "                    f\"KeyError: occurred while processing Event {i}. url = {an_event['event_url']}\")\n",
        "    except requests.exceptions.RequestException:\n",
        "        logging.exception(f\"Request Exception occurred.\")\n",
        "    except ValueError:\n",
        "        logging.exception(\n",
        "            f\"ValueError: occurred while processing the response JSON.\")\n",
        "    except Exception:\n",
        "        logging.exception(f\"An error occurred.\")\n",
        "\n",
        "    return results"
      ],
      "metadata": {
        "id": "ZFuarOQrddsq"
      },
      "execution_count": 5,
      "outputs": []
    },
    {
      "cell_type": "markdown",
      "source": [
        "This code fetches events within the next 730 days, creates a DataFrame from the obtained data, saves it to an Excel file (\"ticketmaster.xlsx\")."
      ],
      "metadata": {
        "id": "1c5l5uaSpxAR"
      }
    },
    {
      "cell_type": "code",
      "source": [
        "events = fetch_events_from_ticketmaster(days=730)\n",
        "\n",
        "df = pd.DataFrame(events)\n",
        "df.to_excel(\"ticketmaster.xlsx\")  # dataset generation"
      ],
      "metadata": {
        "id": "xfUp2KTBdhSJ"
      },
      "execution_count": null,
      "outputs": []
    }
  ]
}